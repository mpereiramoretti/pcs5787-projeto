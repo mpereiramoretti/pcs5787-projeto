{
 "cells": [
  {
   "cell_type": "markdown",
   "id": "93876688",
   "metadata": {},
   "source": [
    "This project aims to answer to the following questions:\n",
    "- What attributes contribute the most for a telephone selling call to be successful (that is, to lead the client subscribe a term deposit)?\n",
    "- What is the profile of the most subscribing clients?"
   ]
  },
  {
   "cell_type": "code",
   "execution_count": 35,
   "id": "8e102727",
   "metadata": {},
   "outputs": [],
   "source": [
    "import os\n",
    "\n",
    "import pandas as pd\n",
    "import numpy as np\n",
    "\n",
    "import matplotlib.pyplot as plt\n",
    "import seaborn as sns\n",
    "\n",
    "from time import strptime\n",
    "from datetime import datetime"
   ]
  },
  {
   "cell_type": "code",
   "execution_count": 2,
   "id": "211a1ff0",
   "metadata": {},
   "outputs": [],
   "source": [
    "DATA_PATH = \"../data/\""
   ]
  },
  {
   "cell_type": "code",
   "execution_count": 3,
   "id": "e3a21cc8",
   "metadata": {},
   "outputs": [],
   "source": [
    "pd.set_option(\"display.max_rows\", 200)\n",
    "pd.set_option(\"display.max_columns\", 200)\n",
    "pd.set_option('display.float_format', lambda x: '%.3f' % x)"
   ]
  },
  {
   "cell_type": "markdown",
   "id": "d7209b85",
   "metadata": {},
   "source": [
    "## 1. Importing data"
   ]
  },
  {
   "cell_type": "code",
   "execution_count": 4,
   "id": "08648c85",
   "metadata": {},
   "outputs": [],
   "source": [
    "df = pd.read_csv(os.path.join(DATA_PATH, \"bank-additional-full.csv\"), sep=\";\")"
   ]
  },
  {
   "cell_type": "code",
   "execution_count": 5,
   "id": "88ebc4a7",
   "metadata": {},
   "outputs": [
    {
     "data": {
      "text/plain": [
       "(41188, 22)"
      ]
     },
     "execution_count": 5,
     "metadata": {},
     "output_type": "execute_result"
    }
   ],
   "source": [
    "df.shape"
   ]
  },
  {
   "cell_type": "code",
   "execution_count": 6,
   "id": "afba4e22",
   "metadata": {},
   "outputs": [
    {
     "data": {
      "text/html": [
       "<div>\n",
       "<style scoped>\n",
       "    .dataframe tbody tr th:only-of-type {\n",
       "        vertical-align: middle;\n",
       "    }\n",
       "\n",
       "    .dataframe tbody tr th {\n",
       "        vertical-align: top;\n",
       "    }\n",
       "\n",
       "    .dataframe thead th {\n",
       "        text-align: right;\n",
       "    }\n",
       "</style>\n",
       "<table border=\"1\" class=\"dataframe\">\n",
       "  <thead>\n",
       "    <tr style=\"text-align: right;\">\n",
       "      <th></th>\n",
       "      <th>age</th>\n",
       "      <th>job</th>\n",
       "      <th>marital</th>\n",
       "      <th>education</th>\n",
       "      <th>default</th>\n",
       "      <th>housing</th>\n",
       "      <th>loan</th>\n",
       "      <th>contact</th>\n",
       "      <th>month</th>\n",
       "      <th>year</th>\n",
       "      <th>day_of_week</th>\n",
       "      <th>duration</th>\n",
       "      <th>campaign</th>\n",
       "      <th>pdays</th>\n",
       "      <th>previous</th>\n",
       "      <th>poutcome</th>\n",
       "      <th>emp.var.rate</th>\n",
       "      <th>cons.price.idx</th>\n",
       "      <th>cons.conf.idx</th>\n",
       "      <th>euribor3m</th>\n",
       "      <th>nr.employed</th>\n",
       "      <th>y</th>\n",
       "    </tr>\n",
       "  </thead>\n",
       "  <tbody>\n",
       "    <tr>\n",
       "      <th>0</th>\n",
       "      <td>56</td>\n",
       "      <td>housemaid</td>\n",
       "      <td>married</td>\n",
       "      <td>basic.4y</td>\n",
       "      <td>no</td>\n",
       "      <td>no</td>\n",
       "      <td>no</td>\n",
       "      <td>telephone</td>\n",
       "      <td>may</td>\n",
       "      <td>2008</td>\n",
       "      <td>mon</td>\n",
       "      <td>261</td>\n",
       "      <td>1</td>\n",
       "      <td>999</td>\n",
       "      <td>0</td>\n",
       "      <td>nonexistent</td>\n",
       "      <td>1.100</td>\n",
       "      <td>93.994</td>\n",
       "      <td>-36.400</td>\n",
       "      <td>4.857</td>\n",
       "      <td>5191.000</td>\n",
       "      <td>no</td>\n",
       "    </tr>\n",
       "    <tr>\n",
       "      <th>1</th>\n",
       "      <td>57</td>\n",
       "      <td>services</td>\n",
       "      <td>married</td>\n",
       "      <td>high.school</td>\n",
       "      <td>unknown</td>\n",
       "      <td>no</td>\n",
       "      <td>no</td>\n",
       "      <td>telephone</td>\n",
       "      <td>may</td>\n",
       "      <td>2008</td>\n",
       "      <td>mon</td>\n",
       "      <td>149</td>\n",
       "      <td>1</td>\n",
       "      <td>999</td>\n",
       "      <td>0</td>\n",
       "      <td>nonexistent</td>\n",
       "      <td>1.100</td>\n",
       "      <td>93.994</td>\n",
       "      <td>-36.400</td>\n",
       "      <td>4.857</td>\n",
       "      <td>5191.000</td>\n",
       "      <td>no</td>\n",
       "    </tr>\n",
       "    <tr>\n",
       "      <th>2</th>\n",
       "      <td>37</td>\n",
       "      <td>services</td>\n",
       "      <td>married</td>\n",
       "      <td>high.school</td>\n",
       "      <td>no</td>\n",
       "      <td>yes</td>\n",
       "      <td>no</td>\n",
       "      <td>telephone</td>\n",
       "      <td>may</td>\n",
       "      <td>2008</td>\n",
       "      <td>mon</td>\n",
       "      <td>226</td>\n",
       "      <td>1</td>\n",
       "      <td>999</td>\n",
       "      <td>0</td>\n",
       "      <td>nonexistent</td>\n",
       "      <td>1.100</td>\n",
       "      <td>93.994</td>\n",
       "      <td>-36.400</td>\n",
       "      <td>4.857</td>\n",
       "      <td>5191.000</td>\n",
       "      <td>no</td>\n",
       "    </tr>\n",
       "    <tr>\n",
       "      <th>3</th>\n",
       "      <td>40</td>\n",
       "      <td>admin.</td>\n",
       "      <td>married</td>\n",
       "      <td>basic.6y</td>\n",
       "      <td>no</td>\n",
       "      <td>no</td>\n",
       "      <td>no</td>\n",
       "      <td>telephone</td>\n",
       "      <td>may</td>\n",
       "      <td>2008</td>\n",
       "      <td>mon</td>\n",
       "      <td>151</td>\n",
       "      <td>1</td>\n",
       "      <td>999</td>\n",
       "      <td>0</td>\n",
       "      <td>nonexistent</td>\n",
       "      <td>1.100</td>\n",
       "      <td>93.994</td>\n",
       "      <td>-36.400</td>\n",
       "      <td>4.857</td>\n",
       "      <td>5191.000</td>\n",
       "      <td>no</td>\n",
       "    </tr>\n",
       "    <tr>\n",
       "      <th>4</th>\n",
       "      <td>56</td>\n",
       "      <td>services</td>\n",
       "      <td>married</td>\n",
       "      <td>high.school</td>\n",
       "      <td>no</td>\n",
       "      <td>no</td>\n",
       "      <td>yes</td>\n",
       "      <td>telephone</td>\n",
       "      <td>may</td>\n",
       "      <td>2008</td>\n",
       "      <td>mon</td>\n",
       "      <td>307</td>\n",
       "      <td>1</td>\n",
       "      <td>999</td>\n",
       "      <td>0</td>\n",
       "      <td>nonexistent</td>\n",
       "      <td>1.100</td>\n",
       "      <td>93.994</td>\n",
       "      <td>-36.400</td>\n",
       "      <td>4.857</td>\n",
       "      <td>5191.000</td>\n",
       "      <td>no</td>\n",
       "    </tr>\n",
       "  </tbody>\n",
       "</table>\n",
       "</div>"
      ],
      "text/plain": [
       "   age        job  marital    education  default housing loan    contact  \\\n",
       "0   56  housemaid  married     basic.4y       no      no   no  telephone   \n",
       "1   57   services  married  high.school  unknown      no   no  telephone   \n",
       "2   37   services  married  high.school       no     yes   no  telephone   \n",
       "3   40     admin.  married     basic.6y       no      no   no  telephone   \n",
       "4   56   services  married  high.school       no      no  yes  telephone   \n",
       "\n",
       "  month  year day_of_week  duration  campaign  pdays  previous     poutcome  \\\n",
       "0   may  2008         mon       261         1    999         0  nonexistent   \n",
       "1   may  2008         mon       149         1    999         0  nonexistent   \n",
       "2   may  2008         mon       226         1    999         0  nonexistent   \n",
       "3   may  2008         mon       151         1    999         0  nonexistent   \n",
       "4   may  2008         mon       307         1    999         0  nonexistent   \n",
       "\n",
       "   emp.var.rate  cons.price.idx  cons.conf.idx  euribor3m  nr.employed   y  \n",
       "0         1.100          93.994        -36.400      4.857     5191.000  no  \n",
       "1         1.100          93.994        -36.400      4.857     5191.000  no  \n",
       "2         1.100          93.994        -36.400      4.857     5191.000  no  \n",
       "3         1.100          93.994        -36.400      4.857     5191.000  no  \n",
       "4         1.100          93.994        -36.400      4.857     5191.000  no  "
      ]
     },
     "execution_count": 6,
     "metadata": {},
     "output_type": "execute_result"
    }
   ],
   "source": [
    "df.head()"
   ]
  },
  {
   "cell_type": "markdown",
   "id": "16acec31",
   "metadata": {},
   "source": [
    "## 2. Analysis against the target"
   ]
  },
  {
   "cell_type": "markdown",
   "id": "5b36fa0f",
   "metadata": {},
   "source": [
    "* Target\n",
    "\n",
    "Is it balanced or unbalenced?"
   ]
  },
  {
   "cell_type": "code",
   "execution_count": 7,
   "id": "5ae928d2",
   "metadata": {},
   "outputs": [
    {
     "data": {
      "text/plain": [
       "<AxesSubplot:xlabel='y', ylabel='count'>"
      ]
     },
     "execution_count": 7,
     "metadata": {},
     "output_type": "execute_result"
    },
    {
     "data": {
      "image/png": "[encoded data removed]",
      "text/plain": [
       "<Figure size 640x480 with 1 Axes>"
      ]
     },
     "metadata": {},
     "output_type": "display_data"
    }
   ],
   "source": [
    "sns.countplot(data=df, x=\"y\")"
   ]
  },
  {
   "cell_type": "code",
   "execution_count": 8,
   "id": "4dce6c59",
   "metadata": {},
   "outputs": [
    {
     "data": {
      "text/plain": [
       "no     36548\n",
       "yes     4640\n",
       "Name: y, dtype: int64"
      ]
     },
     "execution_count": 8,
     "metadata": {},
     "output_type": "execute_result"
    }
   ],
   "source": [
    "df[\"y\"].value_counts()"
   ]
  },
  {
   "cell_type": "code",
   "execution_count": 9,
   "id": "401597b3",
   "metadata": {},
   "outputs": [
    {
     "data": {
      "text/plain": [
       "0.11265417111780131"
      ]
     },
     "execution_count": 9,
     "metadata": {},
     "output_type": "execute_result"
    }
   ],
   "source": [
    "len(df[df[\"y\"] == \"yes\"]) / len(df)"
   ]
  },
  {
   "cell_type": "markdown",
   "id": "d29cdd7d",
   "metadata": {},
   "source": [
    "We see that the target has some imbalancement, where the positive target represents 11% of the dataset."
   ]
  },
  {
   "cell_type": "markdown",
   "id": "e591c9d5",
   "metadata": {},
   "source": [
    "* Time relationship"
   ]
  },
  {
   "cell_type": "markdown",
   "id": "4c693532",
   "metadata": {},
   "source": [
    "According to the UCI Repository page, the dataset is ordered by date from May 2008 to November 2010 (roughly 2 years and 6 months = 30 months).\n",
    "\n",
    "I've added manually the field `year`, assuming that it is ordered by date.\n",
    "\n",
    "First, we convert the `month` abbreviated string to the respective number."
   ]
  },
  {
   "cell_type": "code",
   "execution_count": 17,
   "id": "5ef7c598",
   "metadata": {},
   "outputs": [],
   "source": [
    "df[\"month_nb\"] = df[\"month\"].apply(lambda x : strptime(x,'%b').tm_mon)"
   ]
  },
  {
   "cell_type": "code",
   "execution_count": 18,
   "id": "07d8e2ca",
   "metadata": {},
   "outputs": [
    {
     "data": {
      "text/html": [
       "<div>\n",
       "<style scoped>\n",
       "    .dataframe tbody tr th:only-of-type {\n",
       "        vertical-align: middle;\n",
       "    }\n",
       "\n",
       "    .dataframe tbody tr th {\n",
       "        vertical-align: top;\n",
       "    }\n",
       "\n",
       "    .dataframe thead th {\n",
       "        text-align: right;\n",
       "    }\n",
       "</style>\n",
       "<table border=\"1\" class=\"dataframe\">\n",
       "  <thead>\n",
       "    <tr style=\"text-align: right;\">\n",
       "      <th></th>\n",
       "      <th>month</th>\n",
       "      <th>month_nb</th>\n",
       "    </tr>\n",
       "  </thead>\n",
       "  <tbody>\n",
       "    <tr>\n",
       "      <th>0</th>\n",
       "      <td>may</td>\n",
       "      <td>5</td>\n",
       "    </tr>\n",
       "    <tr>\n",
       "      <th>7763</th>\n",
       "      <td>jun</td>\n",
       "      <td>6</td>\n",
       "    </tr>\n",
       "    <tr>\n",
       "      <th>12137</th>\n",
       "      <td>jul</td>\n",
       "      <td>7</td>\n",
       "    </tr>\n",
       "    <tr>\n",
       "      <th>18822</th>\n",
       "      <td>aug</td>\n",
       "      <td>8</td>\n",
       "    </tr>\n",
       "    <tr>\n",
       "      <th>23997</th>\n",
       "      <td>oct</td>\n",
       "      <td>10</td>\n",
       "    </tr>\n",
       "    <tr>\n",
       "      <th>24064</th>\n",
       "      <td>nov</td>\n",
       "      <td>11</td>\n",
       "    </tr>\n",
       "    <tr>\n",
       "      <th>27680</th>\n",
       "      <td>dec</td>\n",
       "      <td>12</td>\n",
       "    </tr>\n",
       "    <tr>\n",
       "      <th>27690</th>\n",
       "      <td>mar</td>\n",
       "      <td>3</td>\n",
       "    </tr>\n",
       "    <tr>\n",
       "      <th>27972</th>\n",
       "      <td>apr</td>\n",
       "      <td>4</td>\n",
       "    </tr>\n",
       "    <tr>\n",
       "      <th>37887</th>\n",
       "      <td>sep</td>\n",
       "      <td>9</td>\n",
       "    </tr>\n",
       "  </tbody>\n",
       "</table>\n",
       "</div>"
      ],
      "text/plain": [
       "      month  month_nb\n",
       "0       may         5\n",
       "7763    jun         6\n",
       "12137   jul         7\n",
       "18822   aug         8\n",
       "23997   oct        10\n",
       "24064   nov        11\n",
       "27680   dec        12\n",
       "27690   mar         3\n",
       "27972   apr         4\n",
       "37887   sep         9"
      ]
     },
     "execution_count": 18,
     "metadata": {},
     "output_type": "execute_result"
    }
   ],
   "source": [
    "df[[\"month\", \"month_nb\"]].drop_duplicates()"
   ]
  },
  {
   "cell_type": "markdown",
   "id": "865ade3a",
   "metadata": {},
   "source": [
    "Second, let's join the year and the month"
   ]
  },
  {
   "cell_type": "code",
   "execution_count": 22,
   "id": "38a19012",
   "metadata": {},
   "outputs": [],
   "source": [
    "df[\"anomes\"] = (df[\"year\"].astype(str) + df[\"month_nb\"].astype(str).str.zfill(2)).astype(int)"
   ]
  },
  {
   "cell_type": "markdown",
   "id": "717723c0",
   "metadata": {},
   "source": [
    "How many of each reference do we have on the dataset? Are there missing references?"
   ]
  },
  {
   "cell_type": "code",
   "execution_count": 27,
   "id": "7656f6a5",
   "metadata": {},
   "outputs": [
    {
     "data": {
      "text/plain": [
       "200805    7763\n",
       "200806    4374\n",
       "200807    6685\n",
       "200808    5175\n",
       "200810      67\n",
       "200811    3616\n",
       "200812      10\n",
       "200903     282\n",
       "200904    2458\n",
       "200905    5794\n",
       "200906     715\n",
       "200907     178\n",
       "200908     770\n",
       "200909     267\n",
       "200910     447\n",
       "200911     357\n",
       "200912     172\n",
       "201003     264\n",
       "201004     174\n",
       "201005     212\n",
       "201006     229\n",
       "201007     311\n",
       "201008     233\n",
       "201009     303\n",
       "201010     204\n",
       "201011     128\n",
       "Name: anomes, dtype: int64"
      ]
     },
     "execution_count": 27,
     "metadata": {},
     "output_type": "execute_result"
    }
   ],
   "source": [
    "df[\"anomes\"].value_counts().sort_index()"
   ]
  },
  {
   "cell_type": "markdown",
   "id": "ede14dcd",
   "metadata": {},
   "source": [
    "Conclusions:\n",
    "1. We can see that the biggest quantity of records are found in the year 2008.\n",
    "2. We didn't have any call for the months 200809, 200901, 200902, 201001, 201002.\n",
    "3. We had very few records in 200810, 200812."
   ]
  },
  {
   "cell_type": "code",
   "execution_count": 10,
   "id": "3d0392c6",
   "metadata": {},
   "outputs": [
    {
     "ename": "NameError",
     "evalue": "name 'yes_distribution' is not defined",
     "output_type": "error",
     "traceback": [
      "\u001b[0;31m---------------------------------------------------------------------------\u001b[0m",
      "\u001b[0;31mNameError\u001b[0m                                 Traceback (most recent call last)",
      "Cell \u001b[0;32mIn [10], line 1\u001b[0m\n\u001b[0;32m----> 1\u001b[0m sns\u001b[38;5;241m.\u001b[39mbarplot(data\u001b[38;5;241m=\u001b[39myes_distribution, x\u001b[38;5;241m=\u001b[39m\u001b[38;5;124m\"\u001b[39m\u001b[38;5;124mindex\u001b[39m\u001b[38;5;124m\"\u001b[39m, y\u001b[38;5;241m=\u001b[39m\u001b[38;5;124m\"\u001b[39m\u001b[38;5;124mcounts\u001b[39m\u001b[38;5;124m\"\u001b[39m)\n",
      "\u001b[0;31mNameError\u001b[0m: name 'yes_distribution' is not defined"
     ]
    }
   ],
   "source": [
    "sns.barplot(data=yes_distribution, x=\"index\", y=\"counts\")"
   ]
  },
  {
   "cell_type": "markdown",
   "id": "063c6bf3",
   "metadata": {},
   "source": [
    "What is the proportion of positive and negative examples in each anomes?"
   ]
  },
  {
   "cell_type": "code",
   "execution_count": 29,
   "id": "c66ff9bf",
   "metadata": {},
   "outputs": [
    {
     "data": {
      "text/plain": [
       "anomes\n",
       "200805   0.031\n",
       "200806   0.043\n",
       "200807   0.061\n",
       "200808   0.052\n",
       "200810   0.627\n",
       "200811   0.053\n",
       "200812   0.100\n",
       "200903   0.447\n",
       "200904   0.180\n",
       "200905   0.090\n",
       "200906   0.369\n",
       "200907   0.371\n",
       "200908   0.343\n",
       "200909   0.397\n",
       "200910   0.403\n",
       "200911   0.471\n",
       "200912   0.512\n",
       "201003   0.568\n",
       "201004   0.557\n",
       "201005   0.575\n",
       "201006   0.467\n",
       "201007   0.566\n",
       "201008   0.515\n",
       "201009   0.495\n",
       "201010   0.456\n",
       "201011   0.453\n",
       "dtype: float64"
      ]
     },
     "execution_count": 29,
     "metadata": {},
     "output_type": "execute_result"
    }
   ],
   "source": [
    "df.groupby([\"anomes\"]).apply(lambda x : len(x[x[\"y\"] == \"yes\"]) / len(x)).sort_index()"
   ]
  },
  {
   "cell_type": "markdown",
   "id": "68b5621b",
   "metadata": {},
   "source": [
    "We see and increasing proportion, that is, we have more positive examples among the years with less examples."
   ]
  },
  {
   "cell_type": "code",
   "execution_count": 50,
   "id": "23ddc763",
   "metadata": {},
   "outputs": [],
   "source": [
    "df_aux = df.copy()\n",
    "df_aux[\"data\"] = df_aux[\"anomes\"].apply(lambda x : datetime.strptime(str(x), '%Y%m'))"
   ]
  },
  {
   "cell_type": "code",
   "execution_count": 51,
   "id": "6e3f19a7",
   "metadata": {},
   "outputs": [
    {
     "data": {
      "text/html": [
       "<div>\n",
       "<style scoped>\n",
       "    .dataframe tbody tr th:only-of-type {\n",
       "        vertical-align: middle;\n",
       "    }\n",
       "\n",
       "    .dataframe tbody tr th {\n",
       "        vertical-align: top;\n",
       "    }\n",
       "\n",
       "    .dataframe thead th {\n",
       "        text-align: right;\n",
       "    }\n",
       "</style>\n",
       "<table border=\"1\" class=\"dataframe\">\n",
       "  <thead>\n",
       "    <tr style=\"text-align: right;\">\n",
       "      <th></th>\n",
       "      <th>anomes</th>\n",
       "      <th>data</th>\n",
       "    </tr>\n",
       "  </thead>\n",
       "  <tbody>\n",
       "    <tr>\n",
       "      <th>0</th>\n",
       "      <td>200805</td>\n",
       "      <td>2008-05-01</td>\n",
       "    </tr>\n",
       "    <tr>\n",
       "      <th>1</th>\n",
       "      <td>200805</td>\n",
       "      <td>2008-05-01</td>\n",
       "    </tr>\n",
       "    <tr>\n",
       "      <th>2</th>\n",
       "      <td>200805</td>\n",
       "      <td>2008-05-01</td>\n",
       "    </tr>\n",
       "    <tr>\n",
       "      <th>3</th>\n",
       "      <td>200805</td>\n",
       "      <td>2008-05-01</td>\n",
       "    </tr>\n",
       "    <tr>\n",
       "      <th>4</th>\n",
       "      <td>200805</td>\n",
       "      <td>2008-05-01</td>\n",
       "    </tr>\n",
       "  </tbody>\n",
       "</table>\n",
       "</div>"
      ],
      "text/plain": [
       "   anomes       data\n",
       "0  200805 2008-05-01\n",
       "1  200805 2008-05-01\n",
       "2  200805 2008-05-01\n",
       "3  200805 2008-05-01\n",
       "4  200805 2008-05-01"
      ]
     },
     "execution_count": 51,
     "metadata": {},
     "output_type": "execute_result"
    }
   ],
   "source": [
    "df_aux[[\"anomes\", \"data\"]].head()"
   ]
  },
  {
   "cell_type": "code",
   "execution_count": 52,
   "id": "64a1159d",
   "metadata": {},
   "outputs": [],
   "source": [
    "df_aux = df_aux.groupby([\"data\"])[\"y\"].value_counts().rename(\"counts\").to_frame().reset_index()"
   ]
  },
  {
   "cell_type": "code",
   "execution_count": 60,
   "id": "fc3fcaf3",
   "metadata": {},
   "outputs": [
    {
     "data": {
      "text/html": [
       "<div>\n",
       "<style scoped>\n",
       "    .dataframe tbody tr th:only-of-type {\n",
       "        vertical-align: middle;\n",
       "    }\n",
       "\n",
       "    .dataframe tbody tr th {\n",
       "        vertical-align: top;\n",
       "    }\n",
       "\n",
       "    .dataframe thead th {\n",
       "        text-align: right;\n",
       "    }\n",
       "</style>\n",
       "<table border=\"1\" class=\"dataframe\">\n",
       "  <thead>\n",
       "    <tr style=\"text-align: right;\">\n",
       "      <th>y</th>\n",
       "      <th>data</th>\n",
       "      <th>no</th>\n",
       "      <th>yes</th>\n",
       "    </tr>\n",
       "  </thead>\n",
       "  <tbody>\n",
       "    <tr>\n",
       "      <th>0</th>\n",
       "      <td>2008-05-01</td>\n",
       "      <td>7523</td>\n",
       "      <td>240</td>\n",
       "    </tr>\n",
       "    <tr>\n",
       "      <th>1</th>\n",
       "      <td>2008-06-01</td>\n",
       "      <td>4186</td>\n",
       "      <td>188</td>\n",
       "    </tr>\n",
       "    <tr>\n",
       "      <th>2</th>\n",
       "      <td>2008-07-01</td>\n",
       "      <td>6278</td>\n",
       "      <td>407</td>\n",
       "    </tr>\n",
       "    <tr>\n",
       "      <th>3</th>\n",
       "      <td>2008-08-01</td>\n",
       "      <td>4904</td>\n",
       "      <td>271</td>\n",
       "    </tr>\n",
       "    <tr>\n",
       "      <th>4</th>\n",
       "      <td>2008-10-01</td>\n",
       "      <td>25</td>\n",
       "      <td>42</td>\n",
       "    </tr>\n",
       "  </tbody>\n",
       "</table>\n",
       "</div>"
      ],
      "text/plain": [
       "y       data    no  yes\n",
       "0 2008-05-01  7523  240\n",
       "1 2008-06-01  4186  188\n",
       "2 2008-07-01  6278  407\n",
       "3 2008-08-01  4904  271\n",
       "4 2008-10-01    25   42"
      ]
     },
     "execution_count": 60,
     "metadata": {},
     "output_type": "execute_result"
    }
   ],
   "source": [
    "df_plot = pd.pivot_table(df_aux, values=\"counts\", index=\"data\", columns=\"y\")\n",
    "df_plot = df_plot.reset_index()\n",
    "df_plot.head()"
   ]
  },
  {
   "cell_type": "code",
   "execution_count": 61,
   "id": "c89e118f",
   "metadata": {},
   "outputs": [
    {
     "data": {
      "text/plain": [
       "<AxesSubplot:xlabel='data'>"
      ]
     },
     "execution_count": 61,
     "metadata": {},
     "output_type": "execute_result"
    },
    {
     "data": {
      "image/png": "[encoded data removed]",
      "text/plain": [
       "<Figure size 640x480 with 1 Axes>"
      ]
     },
     "metadata": {},
     "output_type": "display_data"
    }
   ],
   "source": [
    "df_plot.plot(kind='bar', x=\"data\", stacked=True, color=['red', 'green'])"
   ]
  },
  {
   "cell_type": "markdown",
   "id": "2be13fec",
   "metadata": {},
   "source": [
    "* Age\n",
    "\n",
    "Is there any tendency in age related to subscribe or not to a term deposit?"
   ]
  },
  {
   "cell_type": "code",
   "execution_count": 18,
   "id": "77ad56ba",
   "metadata": {},
   "outputs": [
    {
     "data": {
      "text/plain": [
       "y\n",
       "no    39.911\n",
       "yes   40.913\n",
       "Name: age, dtype: float64"
      ]
     },
     "execution_count": 18,
     "metadata": {},
     "output_type": "execute_result"
    }
   ],
   "source": [
    "df.groupby(\"y\")[\"age\"].mean()"
   ]
  },
  {
   "cell_type": "code",
   "execution_count": 17,
   "id": "9aac3b2d",
   "metadata": {},
   "outputs": [
    {
     "data": {
      "text/plain": [
       "<AxesSubplot:xlabel='age', ylabel='Count'>"
      ]
     },
     "execution_count": 17,
     "metadata": {},
     "output_type": "execute_result"
    },
    {
     "data": {
      "image/png": "[encoded data removed]",
      "text/plain": [
       "<Figure size 640x480 with 1 Axes>"
      ]
     },
     "metadata": {},
     "output_type": "display_data"
    }
   ],
   "source": [
    "sns.histplot(data=df, x=\"age\", hue=\"y\")"
   ]
  },
  {
   "cell_type": "markdown",
   "id": "7bc464bd",
   "metadata": {},
   "source": [
    "It seams not to have any tendency in subscribing according to the age"
   ]
  },
  {
   "cell_type": "code",
   "execution_count": null,
   "id": "5357364f",
   "metadata": {},
   "outputs": [],
   "source": []
  }
 ],
 "metadata": {
  "kernelspec": {
   "display_name": "pcs5787",
   "language": "python",
   "name": "pcs5787"
  },
  "language_info": {
   "codemirror_mode": {
    "name": "ipython",
    "version": 3
   },
   "file_extension": ".py",
   "mimetype": "text/x-python",
   "name": "python",
   "nbconvert_exporter": "python",
   "pygments_lexer": "ipython3",
   "version": "3.9.13"
  },
  "varInspector": {
   "cols": {
    "lenName": 16,
    "lenType": 16,
    "lenVar": 40
   },
   "kernels_config": {
    "python": {
     "delete_cmd_postfix": "",
     "delete_cmd_prefix": "del ",
     "library": "var_list.py",
     "varRefreshCmd": "print(var_dic_list())"
    },
    "r": {
     "delete_cmd_postfix": ") ",
     "delete_cmd_prefix": "rm(",
     "library": "var_list.r",
     "varRefreshCmd": "cat(var_dic_list()) "
    }
   },
   "types_to_exclude": [
    "module",
    "function",
    "builtin_function_or_method",
    "instance",
    "_Feature"
   ],
   "window_display": false
  }
 },
 "nbformat": 4,
 "nbformat_minor": 5
}
